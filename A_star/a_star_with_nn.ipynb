{
 "cells": [
  {
   "cell_type": "code",
   "execution_count": 1,
   "metadata": {},
   "outputs": [],
   "source": [
    "import numpy as np\n",
    "import cv2\n",
    "from typing import Union\n"
   ]
  },
  {
   "cell_type": "markdown",
   "metadata": {},
   "source": [
    "# Definition of the maze board"
   ]
  },
  {
   "cell_type": "code",
   "execution_count": 2,
   "metadata": {},
   "outputs": [
    {
     "data": {
      "text/plain": [
       "array([[1, 1, 1, 1, 1, 1, 1, 1, 1, 1, 1, 1, 1, 1, 1, 1, 1, 1, 1, 1],\n",
       "       [1, 0, 0, 0, 0, 0, 3, 1, 0, 0, 0, 0, 0, 0, 0, 0, 0, 0, 0, 1],\n",
       "       [1, 0, 0, 1, 1, 1, 1, 1, 1, 1, 1, 1, 1, 1, 1, 1, 1, 1, 0, 1],\n",
       "       [1, 0, 0, 1, 0, 1, 0, 0, 0, 1, 0, 1, 1, 1, 1, 1, 0, 0, 0, 1],\n",
       "       [1, 0, 0, 1, 0, 1, 0, 0, 0, 1, 1, 0, 0, 1, 0, 1, 0, 0, 0, 1],\n",
       "       [1, 0, 0, 1, 0, 1, 1, 0, 1, 1, 1, 0, 0, 1, 0, 0, 0, 0, 0, 1],\n",
       "       [1, 0, 0, 0, 0, 1, 0, 0, 0, 0, 0, 0, 0, 1, 2, 1, 0, 0, 0, 1],\n",
       "       [1, 1, 1, 0, 1, 1, 1, 0, 1, 0, 1, 1, 1, 1, 1, 1, 1, 0, 1, 1],\n",
       "       [1, 1, 1, 0, 1, 1, 1, 0, 1, 0, 1, 1, 1, 1, 1, 1, 1, 0, 1, 1],\n",
       "       [1, 0, 0, 1, 1, 0, 0, 0, 1, 0, 1, 0, 0, 0, 0, 0, 0, 0, 0, 1],\n",
       "       [1, 0, 1, 1, 1, 1, 1, 0, 1, 0, 1, 1, 0, 1, 1, 1, 0, 0, 0, 1],\n",
       "       [1, 0, 1, 0, 0, 1, 0, 1, 1, 0, 1, 1, 1, 0, 1, 1, 0, 0, 0, 1],\n",
       "       [1, 0, 1, 0, 0, 0, 1, 1, 0, 1, 1, 0, 0, 1, 0, 1, 0, 0, 0, 1],\n",
       "       [1, 0, 1, 0, 1, 1, 1, 1, 1, 0, 1, 0, 0, 1, 0, 1, 0, 0, 0, 1],\n",
       "       [1, 0, 0, 0, 0, 0, 0, 0, 0, 0, 0, 0, 0, 1, 0, 1, 0, 0, 0, 1],\n",
       "       [1, 1, 1, 1, 1, 1, 1, 1, 1, 1, 1, 1, 1, 1, 1, 1, 1, 1, 1, 1]])"
      ]
     },
     "execution_count": 2,
     "metadata": {},
     "output_type": "execute_result"
    }
   ],
   "source": [
    "# 0 free to move\n",
    "# 1 obstacle\n",
    "# 2 agent\n",
    "# 3 goal\n",
    "maze = np.array(\n",
    "   [[1, 1, 1, 1, 1, 1, 1, 1, 1, 1, 1, 1, 1, 1, 1, 1, 1, 1, 1, 1],\n",
    "    [1, 0, 0, 0, 0, 0, 0, 1, 0, 0, 0, 0, 0, 0, 0, 0, 0, 0, 0, 1],\n",
    "    [1, 0, 0, 1, 1, 1, 1, 1, 1, 1, 1, 1, 1, 1, 1, 1, 1, 1, 0, 1],\n",
    "    [1, 0, 0, 1, 0, 1, 0, 0, 0, 1, 0, 1, 1, 1, 1, 1, 0, 0, 0, 1],\n",
    "    [1, 0, 0, 1, 0, 1, 0, 0, 0, 1, 1, 0, 0, 1, 0, 1, 0, 0, 0, 1],\n",
    "    [1, 0, 0, 1, 0, 1, 1, 0, 1, 1, 1, 0, 0, 1, 0, 0, 0, 0, 0, 1],\n",
    "    [1, 0, 0, 0, 0, 1, 0, 0, 0, 0, 0, 0, 0, 1, 0, 1, 0, 0, 0, 1],\n",
    "    [1, 1, 1, 0, 1, 1, 1, 0, 1, 0, 1, 1, 1, 1, 1, 1, 1, 0, 1, 1],\n",
    "    [1, 1, 1, 0, 1, 1, 1, 0, 1, 0, 1, 1, 1, 1, 1, 1, 1, 0, 1, 1],\n",
    "    [1, 0, 0, 1, 1, 0, 0, 0, 1, 0, 1, 0, 0, 0, 0, 0, 0, 0, 0, 1],\n",
    "    [1, 0, 1, 1, 1, 1, 1, 0, 1, 0, 1, 1, 0, 1, 1, 1, 0, 0, 0, 1],\n",
    "    [1, 0, 1, 0, 0, 1, 0, 1, 1, 0, 1, 1, 1, 0, 1, 1, 0, 0, 0, 1],\n",
    "    [1, 0, 1, 0, 0, 0, 1, 1, 0, 1, 1, 0, 0, 1, 0, 1, 0, 0, 0, 1],\n",
    "    [1, 0, 1, 0, 1, 1, 1, 1, 1, 0, 1, 0, 0, 1, 0, 1, 0, 0, 0, 1],\n",
    "    [1, 0, 0, 0, 0, 0, 0, 0, 0, 0, 0, 0, 0, 1, 0, 1, 0, 0, 0, 1],\n",
    "    [1, 1, 1, 1, 1, 1, 1, 1, 1, 1, 1, 1, 1, 1, 1, 1, 1, 1, 1, 1]])\n",
    "\n",
    "def generar_laberinto(filas, columnas):\n",
    "    laberinto = np.ones((filas, columnas), dtype=int)\n",
    "\n",
    "    # Rellenar el interior del laberinto con valores aleatorios (0 o 1)\n",
    "    laberinto[1:-1, 1:-1] = np.random.randint(2, size=(filas-2, columnas-2))\n",
    "\n",
    "    return laberinto\n",
    "\n",
    "# Ejemplo con un laberinto de tamaño 10x20\n",
    "filas = 20\n",
    "columnas = 20\n",
    "# maze = generar_laberinto(filas, columnas)\n",
    "\n",
    "start = (6,14)\n",
    "goal  = (1,6)\n",
    "\n",
    "maze[start] = 2\n",
    "maze[goal]  = 3\n",
    "maze"
   ]
  },
  {
   "cell_type": "code",
   "execution_count": 3,
   "metadata": {},
   "outputs": [],
   "source": [
    "search_type = ['A*', 'greedy', 'breadth'][1]"
   ]
  },
  {
   "cell_type": "markdown",
   "metadata": {},
   "source": [
    "# heuristic function and marginal cost"
   ]
  },
  {
   "cell_type": "code",
   "execution_count": 4,
   "metadata": {},
   "outputs": [],
   "source": [
    "def h_n(pos: list, goal: list) -> float:\n",
    "    distance = 10*np.sqrt(np.sum((np.array(pos) - np.array(goal))**2))\n",
    "    return int(distance)\n",
    "\n",
    "def delta_g_n(i_opt):\n",
    "    if i_opt < 4:\n",
    "        return 10\n",
    "    else:\n",
    "        return 14"
   ]
  },
  {
   "cell_type": "markdown",
   "metadata": {},
   "source": [
    "# Main loop"
   ]
  },
  {
   "cell_type": "code",
   "execution_count": 5,
   "metadata": {},
   "outputs": [],
   "source": [
    "# options\n",
    "options = {0: np.array([+1,  0]),\n",
    "           1: np.array([-1,  0]),\n",
    "           2: np.array([ 0, +1]),\n",
    "           3: np.array([ 0, -1]),\n",
    "           4: np.array([+1, +1]),\n",
    "           5: np.array([-1, -1]),\n",
    "           6: np.array([-1, +1]),\n",
    "           7: np.array([+1, -1])}"
   ]
  },
  {
   "cell_type": "code",
   "execution_count": 6,
   "metadata": {},
   "outputs": [],
   "source": [
    "class Node:\n",
    "    def __init__(self, pos: Union[tuple, np.array], g_n: float, h_n: float, g_n_aux: Union[None, float] = None) -> None:\n",
    "        self.pos_tuple = tuple(pos)\n",
    "        self.pos_numpy = np.array(pos)\n",
    "        self.g_n = g_n\n",
    "        self.h_n = h_n\n",
    "        self.f_n = g_n + h_n\n",
    "        if g_n_aux:\n",
    "            self.g_n_aux = g_n_aux\n",
    "        else:\n",
    "            self.g_n_aux = g_n\n",
    "\n",
    "    def __str__(self) -> str:\n",
    "        return f'pos={self.pos_tuple}, g_n={self.g_n}, h_n={self.h_n}, f_n={self.f_n}'\n",
    "\n",
    "\n",
    "class NodeList:\n",
    "    def __init__(self, initial_list: Union[list, None] = None) -> None:\n",
    "        self.list = [] if initial_list is None else initial_list\n",
    "\n",
    "    def append(self, node: Node) -> None:\n",
    "        if self.get_node_by_pos(node.pos_tuple) is None:\n",
    "            self.list.append(node)\n",
    "\n",
    "    def get_node_by_pos(self, pos: Union[tuple, np.array]) -> Node:\n",
    "        for node in self.list:\n",
    "            if node.pos_tuple == tuple(pos):\n",
    "                return node\n",
    "        return None\n",
    "\n",
    "    def remove(self, pos: Union[tuple, np.array]) -> None:\n",
    "        node = self.get_node_by_pos(pos)\n",
    "        if node is not None:\n",
    "            self.list.remove(node)\n",
    "        \n",
    "    def get_f_n(self, pos: Union[tuple, np.array]) -> float:\n",
    "        node = self.get_node_by_pos(pos)\n",
    "        if node is not None:\n",
    "            return node.f_n\n",
    "        \n",
    "    def sort_by_f_n(self) -> None:\n",
    "        self.list.sort(key=(lambda node: node.f_n))\n",
    "\n",
    "    def sort_by_g_n_aux(self) -> None:\n",
    "        self.list.sort(key=(lambda node: node.g_n_aux))\n",
    "\n",
    "    def __str__(self) -> str:\n",
    "        string = ''\n",
    "        for node in self.list:\n",
    "            string += node.__str__() + '\\n'\n",
    "        return string\n",
    "\n"
   ]
  },
  {
   "cell_type": "code",
   "execution_count": 7,
   "metadata": {},
   "outputs": [],
   "source": [
    "def display_maze(maze: np.ndarray, win: str, shortest_path: Union[None, NodeList] = None) -> None:\n",
    "    image = (255 * maze / 3).astype('uint8')\n",
    "    scale = 200\n",
    "    image = cv2.resize(image, (image.shape[1]*scale, image.shape[0]*scale), interpolation=cv2.INTER_NEAREST)\n",
    "    image = cv2.cvtColor(image, cv2.COLOR_GRAY2BGR)\n",
    "    font = cv2.FONT_HERSHEY_SIMPLEX\n",
    "    font_scale = 1.0\n",
    "    font_thickness = 3\n",
    "    font_color_open = (255, 0, 0) \n",
    "    font_color_closed = (0, 255, 0) \n",
    "    font_color_shortest_path: tuple = ( 0, 0, 255)\n",
    "    off_set = int(0.2*scale)\n",
    "\n",
    "    def put_text(image, list, font_color):\n",
    "        for node in list:\n",
    "            pos = tuple(node.pos_numpy.astype(int))\n",
    "            image = cv2.putText(image, f'{node.g_n_aux} + {node.h_n}', (pos[1]*scale+off_set, pos[0]*scale+off_set), font, font_scale, font_color, font_thickness)\n",
    "            image = cv2.putText(image, f'{node.f_n}', (pos[1]*scale+off_set, pos[0]*scale+2*off_set), font, font_scale, font_color, font_thickness)\n",
    "        return image\n",
    "    \n",
    "    image = put_text(image, open_nodes.list, font_color_open)\n",
    "    image = put_text(image, closed_nodes.list, font_color_closed)\n",
    "    if shortest_path:\n",
    "        image = put_text(image, shortest_path.list, font_color_shortest_path)\n",
    "\n",
    "    cv2.imshow(win, image)"
   ]
  },
  {
   "cell_type": "code",
   "execution_count": 8,
   "metadata": {},
   "outputs": [
    {
     "name": "stdout",
     "output_type": "stream",
     "text": [
      "found!\n"
     ]
    }
   ],
   "source": [
    "pos = np.array(start)\n",
    "maze[tuple(pos)] = 2\n",
    "g_n = 0*maze\n",
    "found = False\n",
    "open_nodes = NodeList([Node(pos, g_n=0, h_n=h_n(pos, goal))])\n",
    "closed_nodes = NodeList()\n",
    "restricted_nodes = NodeList()\n",
    "\n",
    "try:\n",
    "    cv2.namedWindow('win', cv2.WINDOW_KEEPRATIO)\n",
    "    key = 0\n",
    "    while not found and key != 27:\n",
    "        # scan options\n",
    "        costs = np.zeros(8)\n",
    "        for i_opt in range(8):\n",
    "            new_pos = pos + options[i_opt]\n",
    "            if maze[tuple(new_pos)] == 3: # goal attained\n",
    "                print('found!')\n",
    "                found = True\n",
    "            elif maze[tuple(new_pos)] == 1: # restriction\n",
    "                restricted_nodes.append(Node(new_pos, g_n=np.inf, h_n=np.inf))\n",
    "            else:\n",
    "                if g_n[tuple(new_pos)] == 0: # Open node\n",
    "                    g_n[tuple(new_pos)] = g_n[tuple(pos)] + delta_g_n(i_opt)\n",
    "            \n",
    "            # The assesed node (new_pos) has known cost f_n, so it is an open node\n",
    "            if closed_nodes.get_node_by_pos(new_pos) is None: # if it it is not in the closed nodes list\n",
    "                if restricted_nodes.get_node_by_pos(new_pos) is None: # if it it is not in the restricted nodes list\n",
    "                    if search_type == 'A*':\n",
    "                        open_nodes.append(Node(new_pos, g_n=g_n[tuple(new_pos)], h_n=h_n(new_pos, goal)))\n",
    "                    elif search_type == 'greedy':\n",
    "                        open_nodes.append(Node(new_pos, g_n=1, h_n=h_n(new_pos, goal)))\n",
    "                    elif search_type == 'breadth':\n",
    "                        open_nodes.append(Node(new_pos, g_n=1, h_n=1))\n",
    "\n",
    "        # The current node (pos) has being expanded, so it is a closed node\n",
    "        if search_type == 'A*':\n",
    "            closed_nodes.append(Node(pos, g_n=g_n[tuple(pos)], h_n=h_n(pos, goal)))\n",
    "        elif search_type == 'greedy':\n",
    "            closed_nodes.append(Node(pos, g_n=1, h_n=h_n(pos, goal), g_n_aux=g_n[tuple(pos)]))\n",
    "        elif search_type == 'breadth':\n",
    "            closed_nodes.append(Node(pos, g_n=1, h_n=1, g_n_aux=g_n[tuple(pos)]))\n",
    "            \n",
    "        # And it is not an open node from now\n",
    "        open_nodes.remove(pos=pos)\n",
    "\n",
    "        # sort open nodes\n",
    "        open_nodes.sort_by_f_n()\n",
    "\n",
    "        display_maze(maze, 'win')\n",
    "        key = cv2.waitKey(0)\n",
    "\n",
    "        # chose the open node with the lowest f_n\n",
    "        next_node = open_nodes.list[0]\n",
    "\n",
    "        # move on plane\n",
    "        maze[tuple(pos)] = 0\n",
    "        pos = next_node.pos_numpy\n",
    "        maze[tuple(pos)] = 2\n",
    "\n",
    "    display_maze(maze, 'win')\n",
    "    key = cv2.waitKey(0)\n",
    "    cv2.destroyAllWindows()\n",
    "except IndexError:\n",
    "    print('There is no solution')\n",
    "finally:\n",
    "    cv2.destroyAllWindows()"
   ]
  },
  {
   "cell_type": "markdown",
   "metadata": {},
   "source": [
    "# Reconstruct the shortest path"
   ]
  },
  {
   "cell_type": "code",
   "execution_count": 9,
   "metadata": {},
   "outputs": [],
   "source": [
    "if found:\n",
    "    previous_node = closed_nodes.list[-1]\n",
    "    shortest_path = NodeList([previous_node])\n",
    "\n",
    "    while previous_node.pos_tuple != start:\n",
    "        nodes = NodeList()\n",
    "        for i_opt in range(8):\n",
    "            new_pos = previous_node.pos_numpy + options[i_opt]\n",
    "            node = closed_nodes.get_node_by_pos(new_pos)\n",
    "            if node:\n",
    "                nodes.append(node)\n",
    "        nodes.sort_by_g_n_aux()\n",
    "        previous_node = nodes.list[0]\n",
    "        shortest_path.append(previous_node)\n",
    "        pos = previous_node.pos_tuple\n",
    "\n",
    "    win = f'{search_type} shortest path: {len(shortest_path.list)}, expanded nodes: {len(closed_nodes.list)}'\n",
    "    cv2.namedWindow(win, cv2.WINDOW_KEEPRATIO)\n",
    "    display_maze(maze, win, shortest_path=shortest_path)\n",
    "    key = cv2.waitKey(0)\n",
    "    cv2.destroyAllWindows()"
   ]
  },
  {
   "cell_type": "code",
   "execution_count": 10,
   "metadata": {},
   "outputs": [
    {
     "name": "stdout",
     "output_type": "stream",
     "text": [
      "pos=(1, 5), g_n=1, h_n=10, f_n=11\n",
      "pos=(1, 4), g_n=1, h_n=20, f_n=21\n",
      "pos=(1, 3), g_n=1, h_n=30, f_n=31\n",
      "pos=(2, 2), g_n=1, h_n=41, f_n=42\n",
      "pos=(3, 2), g_n=1, h_n=44, f_n=45\n",
      "pos=(4, 2), g_n=1, h_n=50, f_n=51\n",
      "pos=(5, 2), g_n=1, h_n=56, f_n=57\n",
      "pos=(6, 3), g_n=1, h_n=58, f_n=59\n",
      "pos=(7, 3), g_n=1, h_n=67, f_n=68\n",
      "pos=(8, 3), g_n=1, h_n=76, f_n=77\n",
      "pos=(9, 2), g_n=1, h_n=89, f_n=90\n",
      "pos=(10, 1), g_n=1, h_n=102, f_n=103\n",
      "pos=(11, 1), g_n=1, h_n=111, f_n=112\n",
      "pos=(12, 1), g_n=1, h_n=120, f_n=121\n",
      "pos=(13, 1), g_n=1, h_n=130, f_n=131\n",
      "pos=(14, 2), g_n=1, h_n=136, f_n=137\n",
      "pos=(13, 3), g_n=1, h_n=123, f_n=124\n",
      "pos=(12, 4), g_n=1, h_n=111, f_n=112\n",
      "pos=(12, 5), g_n=1, h_n=110, f_n=111\n",
      "pos=(11, 6), g_n=1, h_n=100, f_n=101\n",
      "pos=(10, 7), g_n=1, h_n=90, f_n=91\n",
      "pos=(9, 7), g_n=1, h_n=80, f_n=81\n",
      "pos=(8, 7), g_n=1, h_n=70, f_n=71\n",
      "pos=(7, 7), g_n=1, h_n=60, f_n=61\n",
      "pos=(6, 8), g_n=1, h_n=53, f_n=54\n",
      "pos=(7, 9), g_n=1, h_n=67, f_n=68\n",
      "pos=(8, 9), g_n=1, h_n=76, f_n=77\n",
      "pos=(9, 9), g_n=1, h_n=85, f_n=86\n",
      "pos=(10, 9), g_n=1, h_n=94, f_n=95\n",
      "pos=(11, 9), g_n=1, h_n=104, f_n=105\n",
      "pos=(12, 8), g_n=1, h_n=111, f_n=112\n",
      "pos=(13, 9), g_n=1, h_n=123, f_n=124\n",
      "pos=(14, 10), g_n=1, h_n=136, f_n=137\n",
      "pos=(13, 11), g_n=1, h_n=130, f_n=131\n",
      "pos=(12, 12), g_n=1, h_n=125, f_n=126\n",
      "pos=(11, 13), g_n=1, h_n=122, f_n=123\n",
      "pos=(10, 12), g_n=1, h_n=108, f_n=109\n",
      "pos=(9, 13), g_n=1, h_n=106, f_n=107\n",
      "pos=(9, 14), g_n=1, h_n=113, f_n=114\n",
      "pos=(9, 15), g_n=1, h_n=120, f_n=121\n",
      "pos=(9, 16), g_n=1, h_n=128, f_n=129\n",
      "pos=(8, 17), g_n=1, h_n=130, f_n=131\n",
      "pos=(7, 17), g_n=1, h_n=125, f_n=126\n",
      "pos=(6, 16), g_n=1, h_n=111, f_n=112\n",
      "pos=(5, 15), g_n=1, h_n=98, f_n=99\n",
      "pos=(6, 14), g_n=1, h_n=94, f_n=95\n",
      "\n"
     ]
    }
   ],
   "source": [
    "print(shortest_path)"
   ]
  },
  {
   "cell_type": "code",
   "execution_count": 11,
   "metadata": {},
   "outputs": [],
   "source": [
    "cv2.destroyAllWindows()"
   ]
  }
 ],
 "metadata": {
  "kernelspec": {
   "display_name": "car_models",
   "language": "python",
   "name": "python3"
  },
  "language_info": {
   "codemirror_mode": {
    "name": "ipython",
    "version": 3
   },
   "file_extension": ".py",
   "mimetype": "text/x-python",
   "name": "python",
   "nbconvert_exporter": "python",
   "pygments_lexer": "ipython3",
   "version": "3.8.10"
  }
 },
 "nbformat": 4,
 "nbformat_minor": 2
}
